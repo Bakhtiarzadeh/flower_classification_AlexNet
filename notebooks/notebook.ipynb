{
 "cells": [
  {
   "cell_type": "code",
   "execution_count": 45,
   "metadata": {
    "executionInfo": {
     "elapsed": 9542,
     "status": "ok",
     "timestamp": 1741501941508,
     "user": {
      "displayName": "Sourangshu Pal",
      "userId": "14435651752413705637"
     },
     "user_tz": -330
    },
    "id": "aJ2DH4lhZ9Q_"
   },
   "outputs": [],
   "source": [
    "import matplotlib.pyplot as plt\n",
    "import numpy as np\n",
    "\n",
    "import torch\n",
    "import torch.nn as nn\n",
    "import torch.optim as optim\n",
    "import torchvision\n",
    "import torchvision.transforms as transforms\n",
    "from torch.utils.data import DataLoader\n",
    "\n",
    "import os\n",
    "from sklearn.metrics import confusion_matrix, classification_report\n",
    "import seaborn as sns"
   ]
  },
  {
   "cell_type": "code",
   "execution_count": null,
   "metadata": {
    "executionInfo": {
     "elapsed": 38,
     "status": "ok",
     "timestamp": 1741502000422,
     "user": {
      "displayName": "Sourangshu Pal",
      "userId": "14435651752413705637"
     },
     "user_tz": -330
    },
    "id": "NbJ6V0XJselh"
   },
   "outputs": [],
   "source": [
    "transform = transforms.Compose([\n",
    "    transforms.Resize((224, 224)), \n",
    "    transforms.ToTensor(),\n",
    "    transforms.Normalize(mean=[0.485, 0.456, 0.406], std=[0.229, 0.224, 0.225]),\n",
    "    \n",
    "])"
   ]
  },
  {
   "cell_type": "code",
   "execution_count": null,
   "metadata": {
    "executionInfo": {
     "elapsed": 4896,
     "status": "ok",
     "timestamp": 1741502022693,
     "user": {
      "displayName": "Sourangshu Pal",
      "userId": "14435651752413705637"
     },
     "user_tz": -330
    },
    "id": "aRFPdWTUseiv"
   },
   "outputs": [],
   "source": [
    "dataset_path = \"../dataset/\"\n",
    "\n",
    "train_dataset = torchvision.datasets.ImageFolder(root=dataset_path + \"/train\", transform=transform)\n",
    "test_dataset = torchvision.datasets.ImageFolder(root=dataset_path + \"/test\", transform=transform)"
   ]
  },
  {
   "cell_type": "code",
   "execution_count": null,
   "metadata": {
    "executionInfo": {
     "elapsed": 10,
     "status": "ok",
     "timestamp": 1741502026094,
     "user": {
      "displayName": "Sourangshu Pal",
      "userId": "14435651752413705637"
     },
     "user_tz": -330
    },
    "id": "uckAHTlIsef6"
   },
   "outputs": [],
   "source": [
    "train_loader = DataLoader(train_dataset, batch_size=32, shuffle=True)\n",
    "\n",
    "test_loader = DataLoader(test_dataset, batch_size=32, shuffle=False)"
   ]
  },
  {
   "cell_type": "code",
   "execution_count": 49,
   "metadata": {
    "colab": {
     "base_uri": "https://localhost:8080/"
    },
    "executionInfo": {
     "elapsed": 19472,
     "status": "ok",
     "timestamp": 1741502050339,
     "user": {
      "displayName": "Sourangshu Pal",
      "userId": "14435651752413705637"
     },
     "user_tz": -330
    },
    "id": "P3hwBp58klW-",
    "outputId": "ea534cca-cafd-457d-cb87-ec9af90a1964"
   },
   "outputs": [
    {
     "name": "stdout",
     "output_type": "stream",
     "text": [
      "Dataset: Training Set\n",
      "Total samples: 1275\n",
      "Batch size: 32\n",
      "Image shape: torch.Size([32, 3, 224, 224])\n",
      "Unique classes: {0, 1}\n",
      "Total classes: 2\n"
     ]
    }
   ],
   "source": [
    "def dataset_info(loader, dataset_name=\"Dataset\"):\n",
    "    print(f\"Dataset: {dataset_name}\")\n",
    "    print(f\"Total samples: {len(loader.dataset)}\") \n",
    "\n",
    "    images, labels = next(iter(loader))\n",
    "    print(f\"Batch size: {images.shape[0]}\")\n",
    "    print(f\"Image shape: {images.shape}\") \n",
    "    print(f\"Unique classes: {set(labels.numpy())}\")  \n",
    "    print(f\"Total classes: {len(set(labels.numpy()))}\") \n",
    "\n",
    "dataset_info(train_loader, \"Training Set\")"
   ]
  },
  {
   "cell_type": "code",
   "execution_count": 50,
   "metadata": {
    "executionInfo": {
     "elapsed": 4,
     "status": "ok",
     "timestamp": 1741502286114,
     "user": {
      "displayName": "Sourangshu Pal",
      "userId": "14435651752413705637"
     },
     "user_tz": -330
    },
    "id": "Jwd29-RDsecp"
   },
   "outputs": [],
   "source": [
    "def train(num_epochs=10):\n",
    "    train_losses, train_accuracies = [], []\n",
    "    for epoch in range(num_epochs):\n",
    "        model.train()\n",
    "        running_loss, correct, total = 0.0, 0, 0\n",
    "        for images, labels in train_loader:\n",
    "            images, labels = images.to(device), labels.to(device)\n",
    "            optimizer.zero_grad()\n",
    "            outputs = model(images)\n",
    "            loss = criterion(outputs, labels)\n",
    "            loss.backward()\n",
    "            optimizer.step()\n",
    "            running_loss += loss.item()\n",
    "            _, predicted = outputs.max(1)\n",
    "            total += labels.size(0)\n",
    "            correct += predicted.eq(labels).sum().item()\n",
    "        epoch_loss = running_loss / len(train_loader)\n",
    "        epoch_acc = 100. * correct / total\n",
    "        train_losses.append(epoch_loss)\n",
    "        train_accuracies.append(epoch_acc)\n",
    "        print(f\"Epoch {epoch+1}, Loss: {epoch_loss:.4f}, Accuracy: {epoch_acc:.2f}%\")\n",
    "    return train_losses, train_accuracies"
   ]
  },
  {
   "cell_type": "code",
   "execution_count": 51,
   "metadata": {
    "executionInfo": {
     "elapsed": 3,
     "status": "ok",
     "timestamp": 1741502416074,
     "user": {
      "displayName": "Sourangshu Pal",
      "userId": "14435651752413705637"
     },
     "user_tz": -330
    },
    "id": "qaqWfdHcseZm"
   },
   "outputs": [],
   "source": [
    "class AlexNet(nn.Module):\n",
    "    def __init__(self, num_classes=2):\n",
    "        super(AlexNet, self).__init__()\n",
    "        self.features = nn.Sequential(\n",
    "            nn.Conv2d(3, 64, kernel_size=11, stride=4, padding=2),\n",
    "            nn.ReLU(inplace=True),\n",
    "            nn.MaxPool2d(kernel_size=3, stride=2),\n",
    "            nn.Conv2d(64, 192, kernel_size=5, padding=2),\n",
    "            nn.ReLU(inplace=True),\n",
    "            nn.MaxPool2d(kernel_size=3, stride=2),\n",
    "            nn.Conv2d(192, 384, kernel_size=3, padding=1),\n",
    "            nn.ReLU(inplace=True),\n",
    "            nn.Conv2d(384, 256, kernel_size=3, padding=1),\n",
    "            nn.ReLU(inplace=True),\n",
    "            nn.Conv2d(256, 256, kernel_size=3, padding=1),\n",
    "            nn.ReLU(inplace=True),\n",
    "            nn.MaxPool2d(kernel_size=3, stride=2)\n",
    "        )\n",
    "        self.classifier = nn.Sequential(\n",
    "            nn.Dropout(),\n",
    "            nn.Linear(256 * 6 * 6, 4096),\n",
    "            nn.ReLU(inplace=True),\n",
    "            nn.Dropout(),\n",
    "            nn.Linear(4096, 4096),\n",
    "            nn.ReLU(inplace=True),\n",
    "            nn.Linear(4096, num_classes)\n",
    "        )\n",
    "\n",
    "    def forward(self, x):\n",
    "        x = self.features(x)\n",
    "        x = torch.flatten(x, 1)\n",
    "        x = self.classifier(x)\n",
    "        return x"
   ]
  },
  {
   "cell_type": "code",
   "execution_count": 52,
   "metadata": {
    "executionInfo": {
     "elapsed": 1062,
     "status": "ok",
     "timestamp": 1741502450624,
     "user": {
      "displayName": "Sourangshu Pal",
      "userId": "14435651752413705637"
     },
     "user_tz": -330
    },
    "id": "38tWqy86seV0"
   },
   "outputs": [],
   "source": [
    "device = torch.device(\"cuda\" if torch.cuda.is_available() else \"cpu\")\n",
    "model = AlexNet(num_classes=2).to(device)\n",
    "criterion = nn.CrossEntropyLoss()\n",
    "optimizer = optim.Adam(model.parameters(), lr=0.001)"
   ]
  },
  {
   "cell_type": "code",
   "execution_count": 53,
   "metadata": {
    "executionInfo": {
     "elapsed": 3,
     "status": "ok",
     "timestamp": 1741502484033,
     "user": {
      "displayName": "Sourangshu Pal",
      "userId": "14435651752413705637"
     },
     "user_tz": -330
    },
    "id": "noFjxIfgseS6"
   },
   "outputs": [],
   "source": [
    "def evaluate():\n",
    "    model.eval()\n",
    "    correct, total = 0, 0\n",
    "    with torch.no_grad():\n",
    "        for images, labels in test_loader:\n",
    "            images, labels = images.to(device), labels.to(device)\n",
    "            outputs = model(images)\n",
    "            _, predicted = outputs.max(1)\n",
    "            total += labels.size(0)\n",
    "            correct += predicted.eq(labels).sum().item()\n",
    "    accuracy = 100. * correct / total\n",
    "    print(f'Test Accuracy: {accuracy:.2f}%')\n",
    "    return accuracy"
   ]
  },
  {
   "cell_type": "code",
   "execution_count": null,
   "metadata": {
    "executionInfo": {
     "elapsed": 42,
     "status": "ok",
     "timestamp": 1741502523474,
     "user": {
      "displayName": "Sourangshu Pal",
      "userId": "14435651752413705637"
     },
     "user_tz": -330
    },
    "id": "ci62npKLs7sa"
   },
   "outputs": [],
   "source": [
    "def predict(image_path):\n",
    "    from PIL import Image\n",
    "    image = Image.open(image_path)\n",
    "    image = transform(image).unsqueeze(0).to(device)\n",
    "    model.eval()\n",
    "    with torch.no_grad():\n",
    "        output = model(image)\n",
    "        print(output)\n",
    "        _, predicted = output.max(1)\n",
    "    print(f'Predicted Class: {predicted.item()}')\n",
    "    return predicted.item()"
   ]
  },
  {
   "cell_type": "code",
   "execution_count": 55,
   "metadata": {
    "executionInfo": {
     "elapsed": 2,
     "status": "ok",
     "timestamp": 1741502531912,
     "user": {
      "displayName": "Sourangshu Pal",
      "userId": "14435651752413705637"
     },
     "user_tz": -330
    },
    "id": "UwTPoQsjs7il"
   },
   "outputs": [],
   "source": [
    "def plot_metrics(train_losses, train_accuracies):\n",
    "    plt.figure(figsize=(12, 5))\n",
    "    plt.subplot(1, 2, 1)\n",
    "    plt.plot(train_losses, label='Training Loss')\n",
    "    plt.xlabel('Epochs')\n",
    "    plt.ylabel('Loss')\n",
    "    plt.legend()\n",
    "    plt.subplot(1, 2, 2)\n",
    "    plt.plot(train_accuracies, label='Training Accuracy', color='green')\n",
    "    plt.xlabel('Epochs')\n",
    "    plt.ylabel('Accuracy (%)')\n",
    "    plt.legend()\n",
    "    plt.show()"
   ]
  },
  {
   "cell_type": "code",
   "execution_count": 73,
   "metadata": {
    "colab": {
     "base_uri": "https://localhost:8080/",
     "height": 659
    },
    "executionInfo": {
     "elapsed": 736317,
     "status": "ok",
     "timestamp": 1741503275986,
     "user": {
      "displayName": "Sourangshu Pal",
      "userId": "14435651752413705637"
     },
     "user_tz": -330
    },
    "id": "vDgXiWZHtLYh",
    "outputId": "6602f878-92f8-4ce2-aeac-2446fcd93a65"
   },
   "outputs": [
    {
     "name": "stdout",
     "output_type": "stream",
     "text": [
      "##################################################\n",
      "Training Started\n",
      "Epoch 1, Loss: 0.4756, Accuracy: 77.96%\n",
      "Epoch 2, Loss: 0.4324, Accuracy: 81.73%\n",
      "Epoch 3, Loss: 0.4157, Accuracy: 81.57%\n",
      "Epoch 4, Loss: 0.5005, Accuracy: 77.65%\n",
      "Epoch 5, Loss: 0.4091, Accuracy: 81.25%\n",
      "Epoch 6, Loss: 0.3938, Accuracy: 83.29%\n",
      "Epoch 7, Loss: 0.3567, Accuracy: 84.86%\n",
      "Epoch 8, Loss: 0.3481, Accuracy: 86.20%\n",
      "Epoch 9, Loss: 0.3476, Accuracy: 86.12%\n",
      "Epoch 10, Loss: 0.3415, Accuracy: 86.27%\n",
      "Training Completed\n",
      "##################################################\n",
      "Model Evaluation Started\n",
      "Test Accuracy: 85.71%\n",
      "Model Evaluation Started\n",
      "##################################################\n",
      "Plotting the metrics\n"
     ]
    },
    {
     "data": {
      "image/png": "[encoded data removed]",
      "text/plain": [
       "<Figure size 1200x500 with 2 Axes>"
      ]
     },
     "metadata": {},
     "output_type": "display_data"
    }
   ],
   "source": [
    "print('#' * 50)\n",
    "print('Training Started')\n",
    "train_losses, train_accuracies = train(num_epochs=10)\n",
    "print('Training Completed')\n",
    "print('#' * 50)\n",
    "print('Model Evaluation Started')\n",
    "evaluate()\n",
    "print('Model Evaluation Started')\n",
    "print('#' * 50)\n",
    "print('Plotting the metrics')\n",
    "plot_metrics(train_losses, train_accuracies)"
   ]
  },
  {
   "cell_type": "code",
   "execution_count": 74,
   "metadata": {
    "colab": {
     "base_uri": "https://localhost:8080/"
    },
    "executionInfo": {
     "elapsed": 131,
     "status": "ok",
     "timestamp": 1741503312415,
     "user": {
      "displayName": "Sourangshu Pal",
      "userId": "14435651752413705637"
     },
     "user_tz": -330
    },
    "id": "tnZhr58-wL1u",
    "outputId": "1ea6cdce-809d-4700-dc3a-13340c72e92d"
   },
   "outputs": [
    {
     "name": "stdout",
     "output_type": "stream",
     "text": [
      "tensor([[-2.2120,  2.0357]], device='cuda:0')\n",
      "tensor([1], device='cuda:0')\n",
      "Predicted Class: 1\n"
     ]
    },
    {
     "data": {
      "text/plain": [
       "1"
      ]
     },
     "execution_count": 74,
     "metadata": {},
     "output_type": "execute_result"
    }
   ],
   "source": [
    "predict('../dataset/test/dandelion/3517492544_0fd3ed6a66_m_jpg.rf.023d55ce980d42b59b62acce37f2ffe9.jpg')"
   ]
  },
  {
   "cell_type": "code",
   "execution_count": 78,
   "metadata": {
    "colab": {
     "base_uri": "https://localhost:8080/"
    },
    "executionInfo": {
     "elapsed": 18,
     "status": "ok",
     "timestamp": 1741503320157,
     "user": {
      "displayName": "Sourangshu Pal",
      "userId": "14435651752413705637"
     },
     "user_tz": -330
    },
    "id": "1kpRDqvFwZ-O",
    "outputId": "8c1c6e80-26c2-4744-952f-7945789f5cf5"
   },
   "outputs": [
    {
     "name": "stdout",
     "output_type": "stream",
     "text": [
      "tensor([[ 1.5009, -1.3967]], device='cuda:0')\n",
      "tensor([0], device='cuda:0')\n",
      "Predicted Class: 0\n"
     ]
    },
    {
     "data": {
      "text/plain": [
       "0"
      ]
     },
     "execution_count": 78,
     "metadata": {},
     "output_type": "execute_result"
    }
   ],
   "source": [
    "predict('../dataset/test/daisy/488202750_c420cbce61_jpg.rf.ebf7d924209a96639fffea69bd279a8c.jpg')"
   ]
  },
  {
   "cell_type": "code",
   "execution_count": null,
   "metadata": {},
   "outputs": [],
   "source": []
  }
 ],
 "metadata": {
  "accelerator": "GPU",
  "colab": {
   "authorship_tag": "ABX9TyN12BP+YAHsCubQdHZmsSxT",
   "gpuType": "T4",
   "mount_file_id": "1cHSK31A4GdpS3HKedlXZ3HJAMmBzxXmx",
   "provenance": []
  },
  "kernelspec": {
   "display_name": "torch",
   "language": "python",
   "name": "python3"
  },
  "language_info": {
   "codemirror_mode": {
    "name": "ipython",
    "version": 3
   },
   "file_extension": ".py",
   "mimetype": "text/x-python",
   "name": "python",
   "nbconvert_exporter": "python",
   "pygments_lexer": "ipython3",
   "version": "3.12.7"
  }
 },
 "nbformat": 4,
 "nbformat_minor": 0
}
